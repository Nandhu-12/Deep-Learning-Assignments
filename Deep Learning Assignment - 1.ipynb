{
 "cells": [
  {
   "cell_type": "markdown",
   "id": "28055c28",
   "metadata": {},
   "source": [
    "# Deep Learning Assignment - 1"
   ]
  },
  {
   "cell_type": "markdown",
   "id": "8b763456",
   "metadata": {},
   "source": [
    "1. What is the function of a summation junction of a neuron? What is threshold activation\n",
    "function?"
   ]
  },
  {
   "cell_type": "markdown",
   "id": "a658cdca",
   "metadata": {},
   "source": [
    "The function of summation juntion of a neuron is to                                                                         \n",
    "step-1: Multiply each inputs with the respective Weights                                                                      \n",
    "step-2: Sum all the products in the hidden layer                                                                                \n",
    "step-3: Apply Relu and its variance Activation function in hidden layer\n",
    " \n",
    " \n",
    "The Threshold Activation Function compares the input values with the threshold and gives the output,                        \n",
    "here it gives 0 if input < 0 and gives 1 if input >= 0"
   ]
  },
  {
   "cell_type": "markdown",
   "id": "b5950cd3",
   "metadata": {},
   "source": [
    "2. What is a step function? What is the difference of step function with threshold function?"
   ]
  },
  {
   "cell_type": "markdown",
   "id": "bb2bd4e4",
   "metadata": {},
   "source": [
    "The Step Function compares the input values with the threshold and gives the output, here it gives 0 if input < 0 and gives 1 if input >= 0"
   ]
  },
  {
   "cell_type": "markdown",
   "id": "af7b319e",
   "metadata": {},
   "source": [
    "3. Explain the McCulloch–Pitts model of neuron."
   ]
  },
  {
   "cell_type": "markdown",
   "id": "7e6fa730",
   "metadata": {},
   "source": [
    "The McCulloch–Pitts model has 2types of input Excitatory and inhibitory which means it has inputs 0 and 1. Here we use threshold activation funtion and so here it gives 0 if input < 0 and gives 1 if input >= 0 "
   ]
  },
  {
   "cell_type": "markdown",
   "id": "15ebfe32",
   "metadata": {},
   "source": [
    "4. Explain the ADALINE network model."
   ]
  },
  {
   "cell_type": "markdown",
   "id": "9e5b97fb",
   "metadata": {},
   "source": [
    "Adaline is single linear unit which uses linear activation function "
   ]
  },
  {
   "cell_type": "markdown",
   "id": "2769c02b",
   "metadata": {},
   "source": [
    "5. What is the constraint of a simple perceptron? Why it may fail with a real-world data set?"
   ]
  },
  {
   "cell_type": "markdown",
   "id": "53a21ec6",
   "metadata": {},
   "source": [
    "The simple preception can only classifies the linearly seperable inputs. It may fail int the real-world datasets which are Non-Linearly seperable."
   ]
  },
  {
   "cell_type": "markdown",
   "id": "0b0780ca",
   "metadata": {},
   "source": [
    "6. What is linearly inseparable problem? What is the role of the hidden layer?"
   ]
  },
  {
   "cell_type": "markdown",
   "id": "da452d2d",
   "metadata": {},
   "source": [
    "The Problems that cannot solved by using linear decision boundry comes under linearly inseparable problem.                 \n",
    "The Role of hidden layer is to receive the raw information and process them with the activation Functions."
   ]
  },
  {
   "cell_type": "markdown",
   "id": "f9f0e774",
   "metadata": {},
   "source": [
    "7. Explain XOR problem in case of a simple perceptron."
   ]
  },
  {
   "cell_type": "markdown",
   "id": "ef0a4410",
   "metadata": {},
   "source": [
    "As XOR is the Non-Linearly seperable Problem and so it cannot be solved by Simple perceptron"
   ]
  },
  {
   "cell_type": "markdown",
   "id": "349188fd",
   "metadata": {},
   "source": [
    "8. Design a multi-layer perceptron to implement A XOR B."
   ]
  },
  {
   "cell_type": "markdown",
   "id": "db4f35e5",
   "metadata": {},
   "source": [
    "XOR(0,0) = 0                                                                                                                \n",
    "XOR(0,1) = 1                                                                                                             \n",
    "XOR(1,0) = 1                                                                                                                \n",
    "XOR(1,1) = 0"
   ]
  },
  {
   "cell_type": "markdown",
   "id": "d4064280",
   "metadata": {},
   "source": [
    "9. Explain the single-layer feed forward architecture of ANN."
   ]
  },
  {
   "cell_type": "markdown",
   "id": "d8cd8374",
   "metadata": {},
   "source": [
    "In single-layer feed forward ANN architecture, the information flows in one direction from input to output. The layers are fully connected, meaning each neuron in a layer is connected to all the neurons in the next layer."
   ]
  },
  {
   "cell_type": "markdown",
   "id": "c967b9c9",
   "metadata": {},
   "source": [
    "10. Explain the competitive network architecture of ANN."
   ]
  },
  {
   "cell_type": "markdown",
   "id": "a8a01865",
   "metadata": {},
   "source": [
    "It is same single-layer feed forward forward ANN architecture but Here the output neurons are connected with each other (either partially or fully)"
   ]
  },
  {
   "cell_type": "markdown",
   "id": "c822c1d5",
   "metadata": {},
   "source": [
    "11. Consider a multi-layer feed forward neural network. Enumerate and explain steps in the\n",
    "backpropagation algorithm used to train the network."
   ]
  },
  {
   "cell_type": "markdown",
   "id": "a68b6a6a",
   "metadata": {},
   "source": [
    "step-1: Initialize weight to small random values.                                                                         \n",
    "step-2: Calculate the output of each neuron from the input layer to the hidden layer to the output layer                   \n",
    "step-3: Calculate Errors, Backpropagation Error= Actual Output – Desired Output\n",
    "step-4: From the output layer, go back to the hidden layer to adjust the weights to reduce the error.                   \n",
    "step-5: Repeat the process until the desired output is achieved"
   ]
  },
  {
   "cell_type": "markdown",
   "id": "94072934",
   "metadata": {},
   "source": [
    "12. What are the advantages and disadvantages of neural networks?"
   ]
  },
  {
   "cell_type": "markdown",
   "id": "d18a0028",
   "metadata": {},
   "source": [
    "Advantages:    \n",
    "    \n",
    "1)Neural networks have the ability to learn on their own and generate output that is not limited to the input they provide.\n",
    "2)The input data is stored in its own networks instead of the database. Hence, data loss does not affect the way it operates.\n",
    "3)The neural network will learn from instances and adapt them when a similar event occurs, thereby allowing them to function through an event in real-time.\n",
    "4)Even if the neuron does not respond or information is lost, the network is still able to detect the fault and generate the output.\n",
    "5)Neural networks conduct multiple tasks in parallel without impacting the performance of the system.\n",
    "6)Storing information on the entire network.                                                                             \n",
    "7)Ability to work with incomplete knowledge.                                                                             \n",
    "8)Having fault tolerance.                                                                                                 \n",
    "9)Having a distributed memory.                                                                                          \n",
    "10)Parallel processing capability.                                                                                         \n",
    "\n",
    "Disadvantages:\n",
    "    \n",
    "1)The main disadvantages of neural networks are their black-box nature.\n",
    "2)Sometimes you need more control over the details of the algorithm, although there are libraries like Keras that make the development of neural networks fairly simple.\n",
    "3)Neural networks usually require much more data than traditional algorithms, as in at least thousands if not millions of labelled samples.\n",
    "4)Neural networks are also more complex in computing terms than traditional algorithms.                                  \n",
    "5)The duration of the neural network is unknown.                                                                         \n",
    "6)Hardware dependence."
   ]
  },
  {
   "cell_type": "markdown",
   "id": "37bc14d7",
   "metadata": {},
   "source": [
    "13. Write short notes on any two of the following:\n",
    "    \n",
    "    1. Biological neuron                                                                                                       \n",
    "    2. ReLU function                                                                                                          \n",
    "    3. Single-layer feed forward ANN                                                                                            \n",
    "    4. Gradient descent                                                                                                        \n",
    "    5. Recurrent networks"
   ]
  },
  {
   "cell_type": "markdown",
   "id": "57d0f7dc",
   "metadata": {},
   "source": [
    "Biological neuron:                                                                                                      \n",
    "    Biological neurons Receive signals (or information). Integrate incoming signals (to determine whether or not the information should be passed along). Communicate signals to target cells (other neurons or muscles or glands).\n",
    "    \n",
    "ReLU function:                                                                                                              \n",
    "    Relu function is the activation funtion applies in the hidden layers of the neural networks\n",
    "    \n",
    "Single-layer feed forward ANN:                                                                                         \n",
    "    In single-layer feed forward ANN architecture, the information flows in one direction from input to output. The layers are fully connected, meaning each neuron in a layer is connected to all the neurons in the next layer.\n",
    "    \n",
    "Gradient descent:                                                                                                       \n",
    "    Gradient descent is one of the optimizers used to reduce the error                                                       \n",
    "    \n",
    "Recurrent networks:                                                                                                         \n",
    "    RNN is used in Speech Recognition and NLP"
   ]
  },
  {
   "cell_type": "code",
   "execution_count": null,
   "id": "d3163fdf",
   "metadata": {},
   "outputs": [],
   "source": []
  }
 ],
 "metadata": {
  "kernelspec": {
   "display_name": "Python 3 (ipykernel)",
   "language": "python",
   "name": "python3"
  },
  "language_info": {
   "codemirror_mode": {
    "name": "ipython",
    "version": 3
   },
   "file_extension": ".py",
   "mimetype": "text/x-python",
   "name": "python",
   "nbconvert_exporter": "python",
   "pygments_lexer": "ipython3",
   "version": "3.9.12"
  }
 },
 "nbformat": 4,
 "nbformat_minor": 5
}
