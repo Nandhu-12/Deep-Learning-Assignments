{
 "cells": [
  {
   "cell_type": "markdown",
   "id": "d4735154",
   "metadata": {},
   "source": [
    "# Deep Learning Assignment - 2"
   ]
  },
  {
   "cell_type": "markdown",
   "id": "c85fa20c",
   "metadata": {},
   "source": [
    "1. Describe the structure of an artificial neuron. How is it similar to a biological neuron? What\n",
    "are its main components?"
   ]
  },
  {
   "cell_type": "markdown",
   "id": "47050dd5",
   "metadata": {},
   "source": [
    "A biological neuron receives its input signals from other neurons through dendrites (small fibers). Likewise, a perceptron receives its data from other perceptrons through input neurons that take numbers."
   ]
  },
  {
   "cell_type": "markdown",
   "id": "fc403e7b",
   "metadata": {},
   "source": [
    "2. What are the different types of activation functions popularly used? Explain each of them."
   ]
  },
  {
   "cell_type": "markdown",
   "id": "bee5b882",
   "metadata": {},
   "source": [
    "Relu and its variances, Sigmoid, Softmax and Linear Activation function"
   ]
  },
  {
   "cell_type": "markdown",
   "id": "e4591326",
   "metadata": {},
   "source": [
    "1. Explain, in details, Rosenblatt’s perceptron model. How can a set of data be classified using a\n",
    "simple perceptron?"
   ]
  },
  {
   "cell_type": "markdown",
   "id": "9b0d127e",
   "metadata": {},
   "source": [
    "This model implements the functioning of a single neuron that can solve linear classification problems through very simple learning algorithms. Rosenblatt Perceptrons are considered as the first generation of neural networks (the network is only compound of one neuron. )."
   ]
  },
  {
   "cell_type": "markdown",
   "id": "a8fba328",
   "metadata": {},
   "source": [
    "2. Explain the basic structure of a multi-layer perceptron. Explain how it can solve the XOR\n",
    "problem."
   ]
  },
  {
   "cell_type": "markdown",
   "id": "ee3667da",
   "metadata": {},
   "source": [
    "A multi-layer perceptron has one input layer and for each input, there is one neuron(or node), it has one output layer with a single node for each output and it can have any number of hidden layers and each hidden layer can have any number of nodes\n",
    "\n",
    "during the forward propagation through the neural networks, the weights get updated to the corresponding layers and the XOR logic gets executed."
   ]
  },
  {
   "cell_type": "markdown",
   "id": "34e6112b",
   "metadata": {},
   "source": [
    "3. What is artificial neural network (ANN)? Explain some of the salient highlights in the\n",
    "different architectural options for ANN."
   ]
  },
  {
   "cell_type": "markdown",
   "id": "da7f1f85",
   "metadata": {},
   "source": [
    "An Artificial Neural Network (ANN) is an information processing paradigm that is inspired by the brain. ANNs, like people, learn by examples. An ANN is configured for a specific application, such as pattern recognition or data classification, through a learning process."
   ]
  },
  {
   "cell_type": "markdown",
   "id": "37192a0c",
   "metadata": {},
   "source": [
    "4. Explain the learning process of an ANN. Explain, with example, the challenge in assigning\n",
    "synaptic weights for the interconnection between neurons? How can this challenge be\n",
    "addressed?"
   ]
  },
  {
   "cell_type": "markdown",
   "id": "fc3057dc",
   "metadata": {},
   "source": [
    "deciding the number of hidden layers, the number of nodes in each of the hidden layers, the direction of signal flow, deciding the connection weight"
   ]
  },
  {
   "cell_type": "markdown",
   "id": "7b55176c",
   "metadata": {},
   "source": [
    "5. Explain, in details, the backpropagation algorithm. What are the limitations of this\n",
    "algorithm?"
   ]
  },
  {
   "cell_type": "markdown",
   "id": "ad1c03dd",
   "metadata": {},
   "source": [
    "The disadvantages of using a backpropagation algorithm are as follows: It prefers a matrix-based approach over a mini-batch approach. Data mining is sensitive to noise and irregularities. Performance is highly dependent on input data."
   ]
  },
  {
   "cell_type": "markdown",
   "id": "f7f42baa",
   "metadata": {},
   "source": [
    "6. Describe, in details, the process of adjusting the interconnection weights in a multi-layer\n",
    "neural network."
   ]
  },
  {
   "cell_type": "markdown",
   "id": "a9ce9153",
   "metadata": {},
   "source": [
    "The backpropagation algorithm is applicable for multi-layer feed-forward network. It is a supervised learning algorithm which continues adjusting the weights of the connected neurons with an objective to reduce the deviation of the output signal from the target output"
   ]
  },
  {
   "cell_type": "markdown",
   "id": "2b9299aa",
   "metadata": {},
   "source": [
    "7. What are the steps in the backpropagation algorithm? Why a multi-layer neural network is\n",
    "required?"
   ]
  },
  {
   "cell_type": "markdown",
   "id": "74a184b1",
   "metadata": {},
   "source": [
    "Start at the output layer and calculate the gradient of the loss with respect to the output of the output layer. This is typically done using the derivative of the chosen loss function.\n",
    "Propagate this gradient backward through the network to compute the gradients of the loss with respect to the activations and weights of neurons in each layer. This is done using the chain rule of calculus.\n",
    "Update the weights and biases of each neuron in each layer using the gradients and a learning rate. This step is what actually \"learns\" from the error and adjusts the model's parameters to minimize it."
   ]
  },
  {
   "cell_type": "markdown",
   "id": "789edcb3",
   "metadata": {},
   "source": [
    "8. Write short notes on:\n",
    "\n",
    "    1. Artificial neuron                                                                                                       \n",
    "    2. Multi-layer perceptron \n",
    "    \n",
    "    3. Deep learning                                                                                                     \n",
    "    4. Learning rate                                             "
   ]
  },
  {
   "cell_type": "markdown",
   "id": "8a731f5a",
   "metadata": {},
   "source": [
    "A. Artificial Neuron is a single-layer perceptron is more suitable for simple and linear problems\n",
    "\n",
    "B. Multi-layer perceptron is more suitable for complex and non-linear problems.\n",
    "\n",
    "C. Deep Learning is mimicing Human brain by multilayered Neural network, We can solve more complex models which cannot be solved by ML\n",
    "\n",
    "D.Learning rate is the hyperparameter which can be tunned to optimize the model"
   ]
  },
  {
   "cell_type": "markdown",
   "id": "406fed8f",
   "metadata": {},
   "source": [
    "2. Write the difference between:-\n",
    "\n",
    "    1. Activation function vs threshold function                                                                          \n",
    "    2. Step function vs sigmoid function                                                                               \n",
    "    3. Single layer vs multi-layer perceptron"
   ]
  },
  {
   "cell_type": "markdown",
   "id": "9548a9e6",
   "metadata": {},
   "source": [
    "A. The activation function compares the input value to a threshold value. If the input value is greater than the threshold value, the neuron is activated. It's disabled if the input value is less than the threshold value, which means its output isn't sent on to the next or hidden layer\n",
    "\n",
    "B.The step-function output is y = 1 if x ≥ θ , 0 if x ≤ θ . The sigmoid function, more commonly used, is asymptotic to 0 and 1\n",
    "\n",
    "C.a single-layer perceptron is more suitable for simple and linear problems, while a multi-layer perceptron is more suitable for complex and non-linear problems."
   ]
  },
  {
   "cell_type": "code",
   "execution_count": null,
   "id": "ecf9ee9f",
   "metadata": {},
   "outputs": [],
   "source": []
  }
 ],
 "metadata": {
  "kernelspec": {
   "display_name": "Python 3 (ipykernel)",
   "language": "python",
   "name": "python3"
  },
  "language_info": {
   "codemirror_mode": {
    "name": "ipython",
    "version": 3
   },
   "file_extension": ".py",
   "mimetype": "text/x-python",
   "name": "python",
   "nbconvert_exporter": "python",
   "pygments_lexer": "ipython3",
   "version": "3.9.12"
  }
 },
 "nbformat": 4,
 "nbformat_minor": 5
}
